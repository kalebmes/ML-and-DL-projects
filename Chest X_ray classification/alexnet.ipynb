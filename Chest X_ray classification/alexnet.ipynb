{
  "nbformat": 4,
  "nbformat_minor": 0,
  "metadata": {
    "colab": {
      "name": "alexnet.ipynb",
      "provenance": [],
      "collapsed_sections": [],
      "include_colab_link": true
    },
    "kernelspec": {
      "name": "python3",
      "display_name": "Python 3"
    },
    "language_info": {
      "name": "python"
    },
    "accelerator": "GPU",
    "widgets": {
      "application/vnd.jupyter.widget-state+json": {
        "385e3808a1c24e5cb10c6833cee3a93e": {
          "model_module": "@jupyter-widgets/controls",
          "model_name": "HBoxModel",
          "model_module_version": "1.5.0",
          "state": {
            "_dom_classes": [],
            "_model_module": "@jupyter-widgets/controls",
            "_model_module_version": "1.5.0",
            "_model_name": "HBoxModel",
            "_view_count": null,
            "_view_module": "@jupyter-widgets/controls",
            "_view_module_version": "1.5.0",
            "_view_name": "HBoxView",
            "box_style": "",
            "children": [
              "IPY_MODEL_f968748d402c44159b1dcfc063f21bab",
              "IPY_MODEL_2bb05dd095e34affa86da41fecae90ea",
              "IPY_MODEL_81ac8c71d5b34818b7d065037ea8a33e"
            ],
            "layout": "IPY_MODEL_9a08edaa4ab145b190ba7cf93c065b65"
          }
        },
        "f968748d402c44159b1dcfc063f21bab": {
          "model_module": "@jupyter-widgets/controls",
          "model_name": "HTMLModel",
          "model_module_version": "1.5.0",
          "state": {
            "_dom_classes": [],
            "_model_module": "@jupyter-widgets/controls",
            "_model_module_version": "1.5.0",
            "_model_name": "HTMLModel",
            "_view_count": null,
            "_view_module": "@jupyter-widgets/controls",
            "_view_module_version": "1.5.0",
            "_view_name": "HTMLView",
            "description": "",
            "description_tooltip": null,
            "layout": "IPY_MODEL_5ca73e216d7b4b6e8d7e222493161709",
            "placeholder": "​",
            "style": "IPY_MODEL_5beef8c566174f5faaa7fb52a8779668",
            "value": "100%"
          }
        },
        "2bb05dd095e34affa86da41fecae90ea": {
          "model_module": "@jupyter-widgets/controls",
          "model_name": "FloatProgressModel",
          "model_module_version": "1.5.0",
          "state": {
            "_dom_classes": [],
            "_model_module": "@jupyter-widgets/controls",
            "_model_module_version": "1.5.0",
            "_model_name": "FloatProgressModel",
            "_view_count": null,
            "_view_module": "@jupyter-widgets/controls",
            "_view_module_version": "1.5.0",
            "_view_name": "ProgressView",
            "bar_style": "success",
            "description": "",
            "description_tooltip": null,
            "layout": "IPY_MODEL_55a17e3ac57c45b58b6ed7a950d3620a",
            "max": 244408911,
            "min": 0,
            "orientation": "horizontal",
            "style": "IPY_MODEL_8572303a5dae4a7c83d67b02338627a9",
            "value": 244408911
          }
        },
        "81ac8c71d5b34818b7d065037ea8a33e": {
          "model_module": "@jupyter-widgets/controls",
          "model_name": "HTMLModel",
          "model_module_version": "1.5.0",
          "state": {
            "_dom_classes": [],
            "_model_module": "@jupyter-widgets/controls",
            "_model_module_version": "1.5.0",
            "_model_name": "HTMLModel",
            "_view_count": null,
            "_view_module": "@jupyter-widgets/controls",
            "_view_module_version": "1.5.0",
            "_view_name": "HTMLView",
            "description": "",
            "description_tooltip": null,
            "layout": "IPY_MODEL_299dda32c8ab411592bde95bae350337",
            "placeholder": "​",
            "style": "IPY_MODEL_96b0f6784089447ebda7572559a6c9b6",
            "value": " 233M/233M [00:02&lt;00:00, 103MB/s]"
          }
        },
        "9a08edaa4ab145b190ba7cf93c065b65": {
          "model_module": "@jupyter-widgets/base",
          "model_name": "LayoutModel",
          "model_module_version": "1.2.0",
          "state": {
            "_model_module": "@jupyter-widgets/base",
            "_model_module_version": "1.2.0",
            "_model_name": "LayoutModel",
            "_view_count": null,
            "_view_module": "@jupyter-widgets/base",
            "_view_module_version": "1.2.0",
            "_view_name": "LayoutView",
            "align_content": null,
            "align_items": null,
            "align_self": null,
            "border": null,
            "bottom": null,
            "display": null,
            "flex": null,
            "flex_flow": null,
            "grid_area": null,
            "grid_auto_columns": null,
            "grid_auto_flow": null,
            "grid_auto_rows": null,
            "grid_column": null,
            "grid_gap": null,
            "grid_row": null,
            "grid_template_areas": null,
            "grid_template_columns": null,
            "grid_template_rows": null,
            "height": null,
            "justify_content": null,
            "justify_items": null,
            "left": null,
            "margin": null,
            "max_height": null,
            "max_width": null,
            "min_height": null,
            "min_width": null,
            "object_fit": null,
            "object_position": null,
            "order": null,
            "overflow": null,
            "overflow_x": null,
            "overflow_y": null,
            "padding": null,
            "right": null,
            "top": null,
            "visibility": null,
            "width": null
          }
        },
        "5ca73e216d7b4b6e8d7e222493161709": {
          "model_module": "@jupyter-widgets/base",
          "model_name": "LayoutModel",
          "model_module_version": "1.2.0",
          "state": {
            "_model_module": "@jupyter-widgets/base",
            "_model_module_version": "1.2.0",
            "_model_name": "LayoutModel",
            "_view_count": null,
            "_view_module": "@jupyter-widgets/base",
            "_view_module_version": "1.2.0",
            "_view_name": "LayoutView",
            "align_content": null,
            "align_items": null,
            "align_self": null,
            "border": null,
            "bottom": null,
            "display": null,
            "flex": null,
            "flex_flow": null,
            "grid_area": null,
            "grid_auto_columns": null,
            "grid_auto_flow": null,
            "grid_auto_rows": null,
            "grid_column": null,
            "grid_gap": null,
            "grid_row": null,
            "grid_template_areas": null,
            "grid_template_columns": null,
            "grid_template_rows": null,
            "height": null,
            "justify_content": null,
            "justify_items": null,
            "left": null,
            "margin": null,
            "max_height": null,
            "max_width": null,
            "min_height": null,
            "min_width": null,
            "object_fit": null,
            "object_position": null,
            "order": null,
            "overflow": null,
            "overflow_x": null,
            "overflow_y": null,
            "padding": null,
            "right": null,
            "top": null,
            "visibility": null,
            "width": null
          }
        },
        "5beef8c566174f5faaa7fb52a8779668": {
          "model_module": "@jupyter-widgets/controls",
          "model_name": "DescriptionStyleModel",
          "model_module_version": "1.5.0",
          "state": {
            "_model_module": "@jupyter-widgets/controls",
            "_model_module_version": "1.5.0",
            "_model_name": "DescriptionStyleModel",
            "_view_count": null,
            "_view_module": "@jupyter-widgets/base",
            "_view_module_version": "1.2.0",
            "_view_name": "StyleView",
            "description_width": ""
          }
        },
        "55a17e3ac57c45b58b6ed7a950d3620a": {
          "model_module": "@jupyter-widgets/base",
          "model_name": "LayoutModel",
          "model_module_version": "1.2.0",
          "state": {
            "_model_module": "@jupyter-widgets/base",
            "_model_module_version": "1.2.0",
            "_model_name": "LayoutModel",
            "_view_count": null,
            "_view_module": "@jupyter-widgets/base",
            "_view_module_version": "1.2.0",
            "_view_name": "LayoutView",
            "align_content": null,
            "align_items": null,
            "align_self": null,
            "border": null,
            "bottom": null,
            "display": null,
            "flex": null,
            "flex_flow": null,
            "grid_area": null,
            "grid_auto_columns": null,
            "grid_auto_flow": null,
            "grid_auto_rows": null,
            "grid_column": null,
            "grid_gap": null,
            "grid_row": null,
            "grid_template_areas": null,
            "grid_template_columns": null,
            "grid_template_rows": null,
            "height": null,
            "justify_content": null,
            "justify_items": null,
            "left": null,
            "margin": null,
            "max_height": null,
            "max_width": null,
            "min_height": null,
            "min_width": null,
            "object_fit": null,
            "object_position": null,
            "order": null,
            "overflow": null,
            "overflow_x": null,
            "overflow_y": null,
            "padding": null,
            "right": null,
            "top": null,
            "visibility": null,
            "width": null
          }
        },
        "8572303a5dae4a7c83d67b02338627a9": {
          "model_module": "@jupyter-widgets/controls",
          "model_name": "ProgressStyleModel",
          "model_module_version": "1.5.0",
          "state": {
            "_model_module": "@jupyter-widgets/controls",
            "_model_module_version": "1.5.0",
            "_model_name": "ProgressStyleModel",
            "_view_count": null,
            "_view_module": "@jupyter-widgets/base",
            "_view_module_version": "1.2.0",
            "_view_name": "StyleView",
            "bar_color": null,
            "description_width": ""
          }
        },
        "299dda32c8ab411592bde95bae350337": {
          "model_module": "@jupyter-widgets/base",
          "model_name": "LayoutModel",
          "model_module_version": "1.2.0",
          "state": {
            "_model_module": "@jupyter-widgets/base",
            "_model_module_version": "1.2.0",
            "_model_name": "LayoutModel",
            "_view_count": null,
            "_view_module": "@jupyter-widgets/base",
            "_view_module_version": "1.2.0",
            "_view_name": "LayoutView",
            "align_content": null,
            "align_items": null,
            "align_self": null,
            "border": null,
            "bottom": null,
            "display": null,
            "flex": null,
            "flex_flow": null,
            "grid_area": null,
            "grid_auto_columns": null,
            "grid_auto_flow": null,
            "grid_auto_rows": null,
            "grid_column": null,
            "grid_gap": null,
            "grid_row": null,
            "grid_template_areas": null,
            "grid_template_columns": null,
            "grid_template_rows": null,
            "height": null,
            "justify_content": null,
            "justify_items": null,
            "left": null,
            "margin": null,
            "max_height": null,
            "max_width": null,
            "min_height": null,
            "min_width": null,
            "object_fit": null,
            "object_position": null,
            "order": null,
            "overflow": null,
            "overflow_x": null,
            "overflow_y": null,
            "padding": null,
            "right": null,
            "top": null,
            "visibility": null,
            "width": null
          }
        },
        "96b0f6784089447ebda7572559a6c9b6": {
          "model_module": "@jupyter-widgets/controls",
          "model_name": "DescriptionStyleModel",
          "model_module_version": "1.5.0",
          "state": {
            "_model_module": "@jupyter-widgets/controls",
            "_model_module_version": "1.5.0",
            "_model_name": "DescriptionStyleModel",
            "_view_count": null,
            "_view_module": "@jupyter-widgets/base",
            "_view_module_version": "1.2.0",
            "_view_name": "StyleView",
            "description_width": ""
          }
        }
      }
    }
  },
  "cells": [
    {
      "cell_type": "markdown",
      "metadata": {
        "id": "view-in-github",
        "colab_type": "text"
      },
      "source": [
        "<a href=\"https://colab.research.google.com/github/kalebmes/ML-and-DL-projects/blob/main/Chest%20X_ray%20classification/alexnet.ipynb\" target=\"_parent\"><img src=\"https://colab.research.google.com/assets/colab-badge.svg\" alt=\"Open In Colab\"/></a>"
      ]
    },
    {
      "cell_type": "code",
      "execution_count": 1,
      "metadata": {
        "colab": {
          "base_uri": "https://localhost:8080/"
        },
        "id": "zQKMfEtpfkSZ",
        "outputId": "6ea6a0bb-117b-4cbb-a63c-192eeaf877a5"
      },
      "outputs": [
        {
          "output_type": "stream",
          "name": "stdout",
          "text": [
            "Requirement already satisfied: kaggle in /usr/local/lib/python3.7/dist-packages (1.5.12)\n",
            "Requirement already satisfied: python-slugify in /usr/local/lib/python3.7/dist-packages (from kaggle) (6.1.2)\n",
            "Requirement already satisfied: certifi in /usr/local/lib/python3.7/dist-packages (from kaggle) (2021.10.8)\n",
            "Requirement already satisfied: requests in /usr/local/lib/python3.7/dist-packages (from kaggle) (2.23.0)\n",
            "Requirement already satisfied: python-dateutil in /usr/local/lib/python3.7/dist-packages (from kaggle) (2.8.2)\n",
            "Requirement already satisfied: urllib3 in /usr/local/lib/python3.7/dist-packages (from kaggle) (1.24.3)\n",
            "Requirement already satisfied: six>=1.10 in /usr/local/lib/python3.7/dist-packages (from kaggle) (1.15.0)\n",
            "Requirement already satisfied: tqdm in /usr/local/lib/python3.7/dist-packages (from kaggle) (4.64.0)\n",
            "Requirement already satisfied: text-unidecode>=1.3 in /usr/local/lib/python3.7/dist-packages (from python-slugify->kaggle) (1.3)\n",
            "Requirement already satisfied: idna<3,>=2.5 in /usr/local/lib/python3.7/dist-packages (from requests->kaggle) (2.10)\n",
            "Requirement already satisfied: chardet<4,>=3.0.2 in /usr/local/lib/python3.7/dist-packages (from requests->kaggle) (3.0.4)\n"
          ]
        }
      ],
      "source": [
        "!pip install kaggle"
      ]
    },
    {
      "cell_type": "code",
      "source": [
        "from google.colab import drive\n",
        "drive.mount('/content/drive')"
      ],
      "metadata": {
        "colab": {
          "base_uri": "https://localhost:8080/"
        },
        "id": "FRvq641xEOuN",
        "outputId": "993a2b79-0968-42dc-922d-835ebdb7a98e"
      },
      "execution_count": 2,
      "outputs": [
        {
          "output_type": "stream",
          "name": "stdout",
          "text": [
            "Mounted at /content/drive\n"
          ]
        }
      ]
    },
    {
      "cell_type": "code",
      "source": [
        "!mkdir ~/.kaggle\n",
        "!cp /content/drive/MyDrive/kaggle.json ~/.kaggle/kaggle.json\n",
        "! chmod 600 ~/.kaggle/kaggle.json"
      ],
      "metadata": {
        "id": "VoXscnHufnxR"
      },
      "execution_count": 3,
      "outputs": []
    },
    {
      "cell_type": "code",
      "source": [
        "!kaggle datasets download paultimothymooney/chest-xray-pneumonia --unzip --force"
      ],
      "metadata": {
        "colab": {
          "base_uri": "https://localhost:8080/"
        },
        "id": "3xxIy-SUf5IJ",
        "outputId": "ec52144b-34ad-475f-c979-17d6fe1865f2"
      },
      "execution_count": 4,
      "outputs": [
        {
          "output_type": "stream",
          "name": "stdout",
          "text": [
            "Downloading chest-xray-pneumonia.zip to /content\n",
            " 99% 2.27G/2.29G [01:07<00:00, 27.3MB/s]\n",
            "100% 2.29G/2.29G [01:07<00:00, 36.3MB/s]\n"
          ]
        }
      ]
    },
    {
      "cell_type": "code",
      "source": [
        "import numpy as np\n",
        "import pandas as pd\n",
        "import torch\n",
        "import torch.nn as nn\n",
        "import torch.nn.functional as F\n",
        "import torch.optim as optim\n",
        "from torch.utils.data import DataLoader, Dataset\n",
        "from PIL import Image\n",
        "import os\n",
        "import torchvision.datasets as dset\n",
        "import torchvision.transforms as T"
      ],
      "metadata": {
        "id": "jpjgxk7kjPgy"
      },
      "execution_count": 5,
      "outputs": []
    },
    {
      "cell_type": "code",
      "source": [
        "data_path = os.path.join('/content', 'chest_xray', 'chest_xray')\n",
        "train_path = os.path.join(data_path, 'train')\n",
        "validation_path = os.path.join(data_path, 'val')\n",
        "test_path = os.path.join(data_path, 'test')"
      ],
      "metadata": {
        "id": "5ySewM1-gKYA"
      },
      "execution_count": 6,
      "outputs": []
    },
    {
      "cell_type": "code",
      "source": [
        "from torchvision.datasets import ImageFolder\n",
        "import torchvision.transforms as T\n",
        "train_augs = T.Compose([T.RandomHorizontalFlip(p=0.5), \n",
        "                        T.RandomRotation(degrees=(-20, +20)), \n",
        "                        T.Resize((64, 64)),\n",
        "                        T.ToTensor()])\n",
        "\n",
        "valid_augs = T.Compose([T.Resize((64, 64)), T.ToTensor()])"
      ],
      "metadata": {
        "id": "7ZKtTjndmHIw"
      },
      "execution_count": 7,
      "outputs": []
    },
    {
      "cell_type": "code",
      "source": [
        "trainset = ImageFolder(train_path, transform=train_augs)\n",
        "validset = ImageFolder(validation_path, transform=valid_augs)\n",
        "print(f\"Total no. of examples in trainset : {len(trainset)}\")\n",
        "print(f\"Total no. of examples in validset : {len(validset)}\")"
      ],
      "metadata": {
        "colab": {
          "base_uri": "https://localhost:8080/"
        },
        "id": "vWCbaZ6umPdZ",
        "outputId": "eab5d804-7b86-4b32-e2e2-c52b275a4656"
      },
      "execution_count": 8,
      "outputs": [
        {
          "output_type": "stream",
          "name": "stdout",
          "text": [
            "Total no. of examples in trainset : 5216\n",
            "Total no. of examples in validset : 16\n"
          ]
        }
      ]
    },
    {
      "cell_type": "code",
      "source": [
        "print(trainset.class_to_idx)"
      ],
      "metadata": {
        "colab": {
          "base_uri": "https://localhost:8080/"
        },
        "id": "sKNyuc7zmYjn",
        "outputId": "c09e208f-e133-4b06-b350-81d01ba3500b"
      },
      "execution_count": 9,
      "outputs": [
        {
          "output_type": "stream",
          "name": "stdout",
          "text": [
            "{'NORMAL': 0, 'PNEUMONIA': 1}\n"
          ]
        }
      ]
    },
    {
      "cell_type": "code",
      "source": [
        "#we can view some images and their labels\n",
        "import matplotlib.pyplot as plt\n",
        "idx = np.random.randint(low=0, high=len(trainset)-1)\n",
        "print('chosen index: ', idx)\n",
        "image, label = trainset[idx] # the image has format of h, w, c -> so it have to be reshaped\n",
        "plt.imshow(image.permute(1, 2, 0))\n",
        "plt.title(label)"
      ],
      "metadata": {
        "colab": {
          "base_uri": "https://localhost:8080/",
          "height": 316
        },
        "id": "nXLvRCtfmjMx",
        "outputId": "30bbd756-84e9-4e8c-df58-0de860e6af1c"
      },
      "execution_count": 10,
      "outputs": [
        {
          "output_type": "stream",
          "name": "stdout",
          "text": [
            "chosen index:  1976\n"
          ]
        },
        {
          "output_type": "execute_result",
          "data": {
            "text/plain": [
              "Text(0.5, 1.0, '1')"
            ]
          },
          "metadata": {},
          "execution_count": 10
        },
        {
          "output_type": "display_data",
          "data": {
            "text/plain": [
              "<Figure size 432x288 with 1 Axes>"
            ],
            "image/png": "[encoded data removed]"
          },
          "metadata": {
            "needs_background": "light"
          }
        }
      ]
    },
    {
      "cell_type": "code",
      "source": [
        "lr = 1e-3\n",
        "batch_size = 8\n",
        "epochs = 30\n",
        "\n",
        "#device\n",
        "device = 'cpu'\n",
        "if torch.cuda.is_available():\n",
        "  device = 'cuda'\n",
        "  print('GPU available')\n",
        "else:\n",
        "  print('training is done on CPU')"
      ],
      "metadata": {
        "colab": {
          "base_uri": "https://localhost:8080/"
        },
        "id": "zGbt0ZZxmzQZ",
        "outputId": "4d1d82a6-9243-4f9c-f49d-270898f713dc"
      },
      "execution_count": 11,
      "outputs": [
        {
          "output_type": "stream",
          "name": "stdout",
          "text": [
            "GPU available\n"
          ]
        }
      ]
    },
    {
      "cell_type": "code",
      "source": [
        "#now let's read the dataset using pytorch's dataloader\n",
        "trainloader = DataLoader(trainset, batch_size=batch_size, shuffle=True, )\n",
        "validloader = DataLoader(validset, batch_size=batch_size)\n",
        "print('total batches in trainloader: ', len(trainloader), 'and validloader: ', len(validloader))"
      ],
      "metadata": {
        "colab": {
          "base_uri": "https://localhost:8080/"
        },
        "id": "lsyOnRfmmoxg",
        "outputId": "7ead708c-a0bb-44a0-adf2-212c42b0e5b7"
      },
      "execution_count": 12,
      "outputs": [
        {
          "output_type": "stream",
          "name": "stdout",
          "text": [
            "total batches in trainloader:  652 and validloader:  2\n"
          ]
        }
      ]
    },
    {
      "cell_type": "code",
      "source": [
        "from torchvision import models\n",
        "model = models.alexnet(pretrained=True)\n",
        "model.to(device)"
      ],
      "metadata": {
        "colab": {
          "base_uri": "https://localhost:8080/",
          "height": 535,
          "referenced_widgets": [
            "385e3808a1c24e5cb10c6833cee3a93e",
            "f968748d402c44159b1dcfc063f21bab",
            "2bb05dd095e34affa86da41fecae90ea",
            "81ac8c71d5b34818b7d065037ea8a33e",
            "9a08edaa4ab145b190ba7cf93c065b65",
            "5ca73e216d7b4b6e8d7e222493161709",
            "5beef8c566174f5faaa7fb52a8779668",
            "55a17e3ac57c45b58b6ed7a950d3620a",
            "8572303a5dae4a7c83d67b02338627a9",
            "299dda32c8ab411592bde95bae350337",
            "96b0f6784089447ebda7572559a6c9b6"
          ]
        },
        "id": "57NdZQVtnJpp",
        "outputId": "5f54c91b-40a7-45ee-bdca-02fb49db3fe9"
      },
      "execution_count": 13,
      "outputs": [
        {
          "output_type": "stream",
          "name": "stderr",
          "text": [
            "Downloading: \"https://download.pytorch.org/models/alexnet-owt-7be5be79.pth\" to /root/.cache/torch/hub/checkpoints/alexnet-owt-7be5be79.pth\n"
          ]
        },
        {
          "output_type": "display_data",
          "data": {
            "text/plain": [
              "  0%|          | 0.00/233M [00:00<?, ?B/s]"
            ],
            "application/vnd.jupyter.widget-view+json": {
              "version_major": 2,
              "version_minor": 0,
              "model_id": "385e3808a1c24e5cb10c6833cee3a93e"
            }
          },
          "metadata": {}
        },
        {
          "output_type": "execute_result",
          "data": {
            "text/plain": [
              "AlexNet(\n",
              "  (features): Sequential(\n",
              "    (0): Conv2d(3, 64, kernel_size=(11, 11), stride=(4, 4), padding=(2, 2))\n",
              "    (1): ReLU(inplace=True)\n",
              "    (2): MaxPool2d(kernel_size=3, stride=2, padding=0, dilation=1, ceil_mode=False)\n",
              "    (3): Conv2d(64, 192, kernel_size=(5, 5), stride=(1, 1), padding=(2, 2))\n",
              "    (4): ReLU(inplace=True)\n",
              "    (5): MaxPool2d(kernel_size=3, stride=2, padding=0, dilation=1, ceil_mode=False)\n",
              "    (6): Conv2d(192, 384, kernel_size=(3, 3), stride=(1, 1), padding=(1, 1))\n",
              "    (7): ReLU(inplace=True)\n",
              "    (8): Conv2d(384, 256, kernel_size=(3, 3), stride=(1, 1), padding=(1, 1))\n",
              "    (9): ReLU(inplace=True)\n",
              "    (10): Conv2d(256, 256, kernel_size=(3, 3), stride=(1, 1), padding=(1, 1))\n",
              "    (11): ReLU(inplace=True)\n",
              "    (12): MaxPool2d(kernel_size=3, stride=2, padding=0, dilation=1, ceil_mode=False)\n",
              "  )\n",
              "  (avgpool): AdaptiveAvgPool2d(output_size=(6, 6))\n",
              "  (classifier): Sequential(\n",
              "    (0): Dropout(p=0.5, inplace=False)\n",
              "    (1): Linear(in_features=9216, out_features=4096, bias=True)\n",
              "    (2): ReLU(inplace=True)\n",
              "    (3): Dropout(p=0.5, inplace=False)\n",
              "    (4): Linear(in_features=4096, out_features=4096, bias=True)\n",
              "    (5): ReLU(inplace=True)\n",
              "    (6): Linear(in_features=4096, out_features=1000, bias=True)\n",
              "  )\n",
              ")"
            ]
          },
          "metadata": {},
          "execution_count": 13
        }
      ]
    },
    {
      "cell_type": "code",
      "source": [
        "from tqdm import tqdm\n",
        "def multiclass_accuracy(y_pred,y_true):\n",
        "    top_p,top_class = y_pred.topk(1,dim = 1)\n",
        "    equals = top_class == y_true.view(*top_class.shape)\n",
        "    return torch.mean(equals.type(torch.FloatTensor))"
      ],
      "metadata": {
        "id": "iS_5VZwQoyk7"
      },
      "execution_count": 14,
      "outputs": []
    },
    {
      "cell_type": "code",
      "source": [
        "def train_model(model, dataloader, optimizer, current_epoch):\n",
        "\n",
        "  model.train()\n",
        "  total_loss = 0.0\n",
        "  total_acc = 0.0\n",
        "  tk = tqdm(dataloader, desc='EPOCH' + '[TRAIN]' + str(current_epoch + 1) + \"/\" + str(epochs))\n",
        "\n",
        "  for t, data in enumerate(tk):\n",
        "    images, labels = data\n",
        "    images, labels = images.to(device), labels.to(device)\n",
        "\n",
        "    # logits, loss = model(images, labels)\n",
        "    logits = model(images)\n",
        "    loss = nn.CrossEntropyLoss()(logits, labels)\n",
        "    optimizer.zero_grad()\n",
        "    loss.backward()\n",
        "    optimizer.step()\n",
        "\n",
        "    total_loss += loss.item()\n",
        "    total_acc += multiclass_accuracy(logits, labels)\n",
        "    tk.set_postfix({'loss': float(total_loss/(t+1)),'acc': float(total_acc/(t+1))})\n",
        "  return total_loss/len(dataloader), total_acc / len(dataloader)\n",
        "\n",
        "def eval_model(model, dataloader, current_epoch):\n",
        "\n",
        "  model.eval()\n",
        "  total_loss = 0.0\n",
        "  total_acc = 0.0\n",
        "  tk = tqdm(dataloader, desc='EPOCH' + '[VALID]' + str(current_epoch + 1) + \"/\" + str(epochs))\n",
        "\n",
        "  for t, data in enumerate(tk):\n",
        "    images, labels = data\n",
        "    images, labels = images.to(device), labels.to(device)\n",
        "\n",
        "    # logits, loss = model(images, labels)\n",
        "    logits = model(images)\n",
        "    loss = nn.CrossEntropyLoss()(logits, labels)\n",
        "\n",
        "    total_loss += loss.item()\n",
        "    total_acc += multiclass_accuracy(logits, labels)\n",
        "    tk.set_postfix({'loss': float(total_loss/(t+1)),'acc': float(total_acc/(t+1))})\n",
        "  return total_loss/len(dataloader), total_acc / len(dataloader)"
      ],
      "metadata": {
        "id": "TJw7XXO2o7DA"
      },
      "execution_count": 15,
      "outputs": []
    },
    {
      "cell_type": "code",
      "source": [
        "#now let's train the model\n",
        "from torch import optim\n",
        "# optimizer = optim.Adam(model.parameters(), lr=lr)\n",
        "optimizer = optim.SGD(model.parameters(), lr=lr, momentum=0.5, weight_decay=1e-2, nesterov=True)"
      ],
      "metadata": {
        "id": "NDokfk9jpA9_"
      },
      "execution_count": 16,
      "outputs": []
    },
    {
      "cell_type": "code",
      "source": [
        "for images, labels in trainset:\n",
        "  break\n",
        "print('images batch shape: ', images.shape)\n",
        "print('labels batch shape', labels)"
      ],
      "metadata": {
        "colab": {
          "base_uri": "https://localhost:8080/"
        },
        "id": "FaMumPnmtbHL",
        "outputId": "3ad924cb-0e76-40ed-ef22-597a86549cd6"
      },
      "execution_count": 17,
      "outputs": [
        {
          "output_type": "stream",
          "name": "stdout",
          "text": [
            "images batch shape:  torch.Size([3, 64, 64])\n",
            "labels batch shape 0\n"
          ]
        }
      ]
    },
    {
      "cell_type": "code",
      "source": [
        "best_valid_loss = np.Inf\n",
        "for i in range(epochs):\n",
        "  train_loss, train_acc = train_model(model, trainloader, optimizer, i)\n",
        "  valid_loss, valid_acc = eval_model(model, validloader, i)\n",
        "\n",
        "  if valid_loss < best_valid_loss:\n",
        "    torch.save(model.state_dict(), 'best-weights.pt')\n",
        "    print('SAVED BEST WEIGHTS')\n",
        "    best_valid_loss = valid_loss\n",
        "print()\n",
        "print()\n",
        "print('accuracy on the training set: ', float(train_acc))\n",
        "print('accuracy on the validation set: ', float(valid_acc))"
      ],
      "metadata": {
        "colab": {
          "base_uri": "https://localhost:8080/"
        },
        "id": "H6j5-3pTpEzg",
        "outputId": "57133e62-6fb4-46c7-f33f-1eb6a912af83"
      },
      "execution_count": 18,
      "outputs": [
        {
          "output_type": "stream",
          "name": "stderr",
          "text": [
            "EPOCH[TRAIN]1/30: 100%|██████████| 652/652 [02:21<00:00,  4.62it/s, loss=0.333, acc=0.888]\n",
            "EPOCH[VALID]1/30: 100%|██████████| 2/2 [00:00<00:00,  8.28it/s, loss=2.05, acc=0.562]\n"
          ]
        },
        {
          "output_type": "stream",
          "name": "stdout",
          "text": [
            "SAVED BEST WEIGHTS\n"
          ]
        },
        {
          "output_type": "stream",
          "name": "stderr",
          "text": [
            "EPOCH[TRAIN]2/30: 100%|██████████| 652/652 [02:13<00:00,  4.87it/s, loss=0.167, acc=0.932]\n",
            "EPOCH[VALID]2/30: 100%|██████████| 2/2 [00:00<00:00,  9.22it/s, loss=1.65, acc=0.688]\n"
          ]
        },
        {
          "output_type": "stream",
          "name": "stdout",
          "text": [
            "SAVED BEST WEIGHTS\n"
          ]
        },
        {
          "output_type": "stream",
          "name": "stderr",
          "text": [
            "EPOCH[TRAIN]3/30: 100%|██████████| 652/652 [02:14<00:00,  4.84it/s, loss=0.143, acc=0.947]\n",
            "EPOCH[VALID]3/30: 100%|██████████| 2/2 [00:00<00:00,  9.22it/s, loss=0.786, acc=0.688]\n"
          ]
        },
        {
          "output_type": "stream",
          "name": "stdout",
          "text": [
            "SAVED BEST WEIGHTS\n"
          ]
        },
        {
          "output_type": "stream",
          "name": "stderr",
          "text": [
            "EPOCH[TRAIN]4/30: 100%|██████████| 652/652 [02:14<00:00,  4.83it/s, loss=0.138, acc=0.946]\n",
            "EPOCH[VALID]4/30: 100%|██████████| 2/2 [00:00<00:00,  9.12it/s, loss=0.498, acc=0.812]\n"
          ]
        },
        {
          "output_type": "stream",
          "name": "stdout",
          "text": [
            "SAVED BEST WEIGHTS\n"
          ]
        },
        {
          "output_type": "stream",
          "name": "stderr",
          "text": [
            "EPOCH[TRAIN]5/30: 100%|██████████| 652/652 [02:15<00:00,  4.80it/s, loss=0.109, acc=0.958]\n",
            "EPOCH[VALID]5/30: 100%|██████████| 2/2 [00:00<00:00,  9.05it/s, loss=1.11, acc=0.562]\n",
            "EPOCH[TRAIN]6/30: 100%|██████████| 652/652 [02:15<00:00,  4.80it/s, loss=0.0975, acc=0.965]\n",
            "EPOCH[VALID]6/30: 100%|██████████| 2/2 [00:00<00:00,  9.10it/s, loss=0.352, acc=0.812]\n"
          ]
        },
        {
          "output_type": "stream",
          "name": "stdout",
          "text": [
            "SAVED BEST WEIGHTS\n"
          ]
        },
        {
          "output_type": "stream",
          "name": "stderr",
          "text": [
            "EPOCH[TRAIN]7/30: 100%|██████████| 652/652 [02:15<00:00,  4.80it/s, loss=0.109, acc=0.961]\n",
            "EPOCH[VALID]7/30: 100%|██████████| 2/2 [00:00<00:00,  9.03it/s, loss=0.579, acc=0.688]\n",
            "EPOCH[TRAIN]8/30: 100%|██████████| 652/652 [02:14<00:00,  4.83it/s, loss=0.0863, acc=0.969]\n",
            "EPOCH[VALID]8/30: 100%|██████████| 2/2 [00:00<00:00,  8.92it/s, loss=0.577, acc=0.75]\n",
            "EPOCH[TRAIN]9/30: 100%|██████████| 652/652 [02:15<00:00,  4.80it/s, loss=0.0881, acc=0.966]\n",
            "EPOCH[VALID]9/30: 100%|██████████| 2/2 [00:00<00:00,  8.73it/s, loss=0.241, acc=0.812]\n"
          ]
        },
        {
          "output_type": "stream",
          "name": "stdout",
          "text": [
            "SAVED BEST WEIGHTS\n"
          ]
        },
        {
          "output_type": "stream",
          "name": "stderr",
          "text": [
            "EPOCH[TRAIN]10/30: 100%|██████████| 652/652 [02:15<00:00,  4.82it/s, loss=0.0948, acc=0.966]\n",
            "EPOCH[VALID]10/30: 100%|██████████| 2/2 [00:00<00:00,  8.59it/s, loss=0.321, acc=0.812]\n",
            "EPOCH[TRAIN]11/30: 100%|██████████| 652/652 [02:15<00:00,  4.81it/s, loss=0.0897, acc=0.967]\n",
            "EPOCH[VALID]11/30: 100%|██████████| 2/2 [00:00<00:00,  8.72it/s, loss=0.735, acc=0.75]\n",
            "EPOCH[TRAIN]12/30: 100%|██████████| 652/652 [02:15<00:00,  4.79it/s, loss=0.0871, acc=0.968]\n",
            "EPOCH[VALID]12/30: 100%|██████████| 2/2 [00:00<00:00,  8.97it/s, loss=0.385, acc=0.75]\n",
            "EPOCH[TRAIN]13/30: 100%|██████████| 652/652 [02:15<00:00,  4.80it/s, loss=0.0795, acc=0.97]\n",
            "EPOCH[VALID]13/30: 100%|██████████| 2/2 [00:00<00:00,  8.86it/s, loss=0.343, acc=0.75]\n",
            "EPOCH[TRAIN]14/30: 100%|██████████| 652/652 [02:16<00:00,  4.78it/s, loss=0.0861, acc=0.965]\n",
            "EPOCH[VALID]14/30: 100%|██████████| 2/2 [00:00<00:00,  9.08it/s, loss=0.486, acc=0.75]\n",
            "EPOCH[TRAIN]15/30: 100%|██████████| 652/652 [02:15<00:00,  4.81it/s, loss=0.0779, acc=0.971]\n",
            "EPOCH[VALID]15/30: 100%|██████████| 2/2 [00:00<00:00,  9.13it/s, loss=0.612, acc=0.75]\n",
            "EPOCH[TRAIN]16/30: 100%|██████████| 652/652 [02:15<00:00,  4.80it/s, loss=0.0788, acc=0.971]\n",
            "EPOCH[VALID]16/30: 100%|██████████| 2/2 [00:00<00:00,  8.52it/s, loss=0.294, acc=0.812]\n",
            "EPOCH[TRAIN]17/30: 100%|██████████| 652/652 [02:15<00:00,  4.82it/s, loss=0.079, acc=0.971]\n",
            "EPOCH[VALID]17/30: 100%|██████████| 2/2 [00:00<00:00,  9.03it/s, loss=0.544, acc=0.75]\n",
            "EPOCH[TRAIN]18/30: 100%|██████████| 652/652 [02:15<00:00,  4.80it/s, loss=0.0784, acc=0.973]\n",
            "EPOCH[VALID]18/30: 100%|██████████| 2/2 [00:00<00:00,  8.84it/s, loss=0.726, acc=0.688]\n",
            "EPOCH[TRAIN]19/30: 100%|██████████| 652/652 [02:16<00:00,  4.78it/s, loss=0.0753, acc=0.971]\n",
            "EPOCH[VALID]19/30: 100%|██████████| 2/2 [00:00<00:00,  8.94it/s, loss=0.379, acc=0.75]\n",
            "EPOCH[TRAIN]20/30: 100%|██████████| 652/652 [02:15<00:00,  4.81it/s, loss=0.0766, acc=0.97]\n",
            "EPOCH[VALID]20/30: 100%|██████████| 2/2 [00:00<00:00,  9.00it/s, loss=0.284, acc=0.812]\n",
            "EPOCH[TRAIN]21/30: 100%|██████████| 652/652 [02:16<00:00,  4.77it/s, loss=0.0736, acc=0.971]\n",
            "EPOCH[VALID]21/30: 100%|██████████| 2/2 [00:00<00:00,  8.75it/s, loss=0.362, acc=0.75]\n",
            "EPOCH[TRAIN]22/30: 100%|██████████| 652/652 [02:16<00:00,  4.79it/s, loss=0.0717, acc=0.975]\n",
            "EPOCH[VALID]22/30: 100%|██████████| 2/2 [00:00<00:00,  8.83it/s, loss=0.511, acc=0.75]\n",
            "EPOCH[TRAIN]23/30: 100%|██████████| 652/652 [02:16<00:00,  4.76it/s, loss=0.0693, acc=0.975]\n",
            "EPOCH[VALID]23/30: 100%|██████████| 2/2 [00:00<00:00,  9.15it/s, loss=0.67, acc=0.688]\n",
            "EPOCH[TRAIN]24/30: 100%|██████████| 652/652 [02:17<00:00,  4.73it/s, loss=0.0642, acc=0.976]\n",
            "EPOCH[VALID]24/30: 100%|██████████| 2/2 [00:00<00:00,  8.75it/s, loss=0.29, acc=0.875]\n",
            "EPOCH[TRAIN]25/30: 100%|██████████| 652/652 [02:16<00:00,  4.77it/s, loss=0.0665, acc=0.974]\n",
            "EPOCH[VALID]25/30: 100%|██████████| 2/2 [00:00<00:00,  8.92it/s, loss=0.508, acc=0.75]\n",
            "EPOCH[TRAIN]26/30: 100%|██████████| 652/652 [02:16<00:00,  4.76it/s, loss=0.0714, acc=0.972]\n",
            "EPOCH[VALID]26/30: 100%|██████████| 2/2 [00:00<00:00,  8.32it/s, loss=0.174, acc=0.938]\n"
          ]
        },
        {
          "output_type": "stream",
          "name": "stdout",
          "text": [
            "SAVED BEST WEIGHTS\n"
          ]
        },
        {
          "output_type": "stream",
          "name": "stderr",
          "text": [
            "EPOCH[TRAIN]27/30: 100%|██████████| 652/652 [02:17<00:00,  4.75it/s, loss=0.0661, acc=0.975]\n",
            "EPOCH[VALID]27/30: 100%|██████████| 2/2 [00:00<00:00,  8.54it/s, loss=0.256, acc=0.812]\n",
            "EPOCH[TRAIN]28/30: 100%|██████████| 652/652 [02:17<00:00,  4.76it/s, loss=0.062, acc=0.977]\n",
            "EPOCH[VALID]28/30: 100%|██████████| 2/2 [00:00<00:00,  9.06it/s, loss=0.66, acc=0.688]\n",
            "EPOCH[TRAIN]29/30: 100%|██████████| 652/652 [02:17<00:00,  4.75it/s, loss=0.0638, acc=0.976]\n",
            "EPOCH[VALID]29/30: 100%|██████████| 2/2 [00:00<00:00,  8.34it/s, loss=0.256, acc=0.875]\n",
            "EPOCH[TRAIN]30/30: 100%|██████████| 652/652 [02:17<00:00,  4.74it/s, loss=0.0681, acc=0.974]\n",
            "EPOCH[VALID]30/30: 100%|██████████| 2/2 [00:00<00:00,  8.91it/s, loss=0.21, acc=0.875]"
          ]
        },
        {
          "output_type": "stream",
          "name": "stdout",
          "text": [
            "\n",
            "\n",
            "accuracy on the training set:  0.9735429286956787\n",
            "accuracy on the validation set:  0.875\n"
          ]
        },
        {
          "output_type": "stream",
          "name": "stderr",
          "text": [
            "\n"
          ]
        }
      ]
    }
  ]
}