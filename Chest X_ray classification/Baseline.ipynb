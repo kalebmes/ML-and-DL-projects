{
  "cells": [
    {
      "cell_type": "markdown",
      "metadata": {
        "id": "view-in-github",
        "colab_type": "text"
      },
      "source": [
        "<a href=\"https://colab.research.google.com/github/kalebmes/ML-and-DL-projects/blob/main/Chest%20X_ray%20classification/Baseline.ipynb\" target=\"_parent\"><img src=\"https://colab.research.google.com/assets/colab-badge.svg\" alt=\"Open In Colab\"/></a>"
      ]
    },
    {
      "cell_type": "code",
      "execution_count": 91,
      "metadata": {
        "colab": {
          "base_uri": "https://localhost:8080/"
        },
        "id": "zQKMfEtpfkSZ",
        "outputId": "f08b1447-34e8-4843-e76d-9be443c0a27d"
      },
      "outputs": [
        {
          "output_type": "stream",
          "name": "stdout",
          "text": [
            "Looking in indexes: https://pypi.org/simple, https://us-python.pkg.dev/colab-wheels/public/simple/\n",
            "Requirement already satisfied: kaggle in /usr/local/lib/python3.7/dist-packages (1.5.12)\n",
            "Requirement already satisfied: certifi in /usr/local/lib/python3.7/dist-packages (from kaggle) (2022.6.15)\n",
            "Requirement already satisfied: python-dateutil in /usr/local/lib/python3.7/dist-packages (from kaggle) (2.8.2)\n",
            "Requirement already satisfied: requests in /usr/local/lib/python3.7/dist-packages (from kaggle) (2.23.0)\n",
            "Requirement already satisfied: urllib3 in /usr/local/lib/python3.7/dist-packages (from kaggle) (1.24.3)\n",
            "Requirement already satisfied: python-slugify in /usr/local/lib/python3.7/dist-packages (from kaggle) (6.1.2)\n",
            "Requirement already satisfied: tqdm in /usr/local/lib/python3.7/dist-packages (from kaggle) (4.64.0)\n",
            "Requirement already satisfied: six>=1.10 in /usr/local/lib/python3.7/dist-packages (from kaggle) (1.15.0)\n",
            "Requirement already satisfied: text-unidecode>=1.3 in /usr/local/lib/python3.7/dist-packages (from python-slugify->kaggle) (1.3)\n",
            "Requirement already satisfied: chardet<4,>=3.0.2 in /usr/local/lib/python3.7/dist-packages (from requests->kaggle) (3.0.4)\n",
            "Requirement already satisfied: idna<3,>=2.5 in /usr/local/lib/python3.7/dist-packages (from requests->kaggle) (2.10)\n"
          ]
        }
      ],
      "source": [
        "!pip install kaggle"
      ]
    },
    {
      "cell_type": "code",
      "execution_count": 92,
      "metadata": {
        "colab": {
          "base_uri": "https://localhost:8080/"
        },
        "id": "FRvq641xEOuN",
        "outputId": "fc0c30bf-7950-4ee6-9b36-e3efb1dde895"
      },
      "outputs": [
        {
          "output_type": "stream",
          "name": "stdout",
          "text": [
            "Drive already mounted at /content/drive; to attempt to forcibly remount, call drive.mount(\"/content/drive\", force_remount=True).\n"
          ]
        }
      ],
      "source": [
        "from google.colab import drive\n",
        "drive.mount('/content/drive')"
      ]
    },
    {
      "cell_type": "code",
      "execution_count": 93,
      "metadata": {
        "id": "VoXscnHufnxR",
        "colab": {
          "base_uri": "https://localhost:8080/"
        },
        "outputId": "f6df4005-deac-46c3-fc91-688cab2297d0"
      },
      "outputs": [
        {
          "output_type": "stream",
          "name": "stdout",
          "text": [
            "mkdir: cannot create directory ‘/root/.kaggle’: File exists\n"
          ]
        }
      ],
      "source": [
        "!mkdir ~/.kaggle\n",
        "!cp /content/drive/MyDrive/kaggle.json ~/.kaggle/kaggle.json\n",
        "! chmod 600 ~/.kaggle/kaggle.json"
      ]
    },
    {
      "cell_type": "code",
      "execution_count": 94,
      "metadata": {
        "id": "3xxIy-SUf5IJ",
        "colab": {
          "base_uri": "https://localhost:8080/"
        },
        "outputId": "14d55dcd-055c-4ef6-b560-086b8cf2b015"
      },
      "outputs": [
        {
          "output_type": "stream",
          "name": "stdout",
          "text": [
            "Downloading chest-xray-pneumonia.zip to /content\n",
            " 99% 2.28G/2.29G [00:17<00:00, 122MB/s]\n",
            "100% 2.29G/2.29G [00:17<00:00, 137MB/s]\n"
          ]
        }
      ],
      "source": [
        "!kaggle datasets download paultimothymooney/chest-xray-pneumonia --unzip --force"
      ]
    },
    {
      "cell_type": "code",
      "execution_count": 95,
      "metadata": {
        "id": "jpjgxk7kjPgy"
      },
      "outputs": [],
      "source": [
        "import numpy as np\n",
        "import pandas as pd\n",
        "import torch\n",
        "import torch.nn as nn\n",
        "import torch.nn.functional as F\n",
        "import torch.optim as optim\n",
        "from torch.utils.data import DataLoader, Dataset\n",
        "from PIL import Image\n",
        "import os\n",
        "import torchvision.datasets as dset\n",
        "import torchvision.transforms as T"
      ]
    },
    {
      "cell_type": "code",
      "execution_count": 96,
      "metadata": {
        "id": "5ySewM1-gKYA"
      },
      "outputs": [],
      "source": [
        "data_path = os.path.join('/content', 'chest_xray', 'chest_xray')\n",
        "train_path = os.path.join(data_path, 'train')\n",
        "validation_path = os.path.join(data_path, 'val')\n",
        "test_path = os.path.join(data_path, 'test')"
      ]
    },
    {
      "cell_type": "code",
      "execution_count": 97,
      "metadata": {
        "id": "7ZKtTjndmHIw"
      },
      "outputs": [],
      "source": [
        "from torchvision.datasets import ImageFolder\n",
        "import torchvision.transforms as T\n",
        "train_augs = T.Compose([T.RandomHorizontalFlip(p=0.5), \n",
        "                        T.RandomRotation(degrees=(-20, +20)), \n",
        "                        T.Resize((32,32)),\n",
        "                        T.ToTensor()])\n",
        "\n",
        "valid_augs = T.Compose([T.Resize((32,32)), T.ToTensor()])"
      ]
    },
    {
      "cell_type": "code",
      "execution_count": 98,
      "metadata": {
        "id": "vWCbaZ6umPdZ",
        "colab": {
          "base_uri": "https://localhost:8080/"
        },
        "outputId": "d57c3bbc-c560-46e7-8e32-afd2d62e8223"
      },
      "outputs": [
        {
          "output_type": "stream",
          "name": "stdout",
          "text": [
            "Total no. of examples in trainset : 5216\n",
            "Total no. of examples in validset : 16\n"
          ]
        }
      ],
      "source": [
        "trainset = ImageFolder(train_path, transform=train_augs)\n",
        "validset = ImageFolder(validation_path, transform=valid_augs)\n",
        "print(f\"Total no. of examples in trainset : {len(trainset)}\")\n",
        "print(f\"Total no. of examples in validset : {len(validset)}\")"
      ]
    },
    {
      "cell_type": "code",
      "execution_count": 99,
      "metadata": {
        "id": "sKNyuc7zmYjn",
        "colab": {
          "base_uri": "https://localhost:8080/"
        },
        "outputId": "7a372e4d-9d1f-4bc8-a399-f8494841c26d"
      },
      "outputs": [
        {
          "output_type": "stream",
          "name": "stdout",
          "text": [
            "{'NORMAL': 0, 'PNEUMONIA': 1}\n"
          ]
        }
      ],
      "source": [
        "print(trainset.class_to_idx)"
      ]
    },
    {
      "cell_type": "code",
      "execution_count": 100,
      "metadata": {
        "id": "nXLvRCtfmjMx",
        "colab": {
          "base_uri": "https://localhost:8080/",
          "height": 316
        },
        "outputId": "fd3c8602-bcff-49ed-d52c-72e8725f7093"
      },
      "outputs": [
        {
          "output_type": "stream",
          "name": "stdout",
          "text": [
            "chosen index:  4895\n"
          ]
        },
        {
          "output_type": "execute_result",
          "data": {
            "text/plain": [
              "Text(0.5, 1.0, '1')"
            ]
          },
          "metadata": {},
          "execution_count": 100
        },
        {
          "output_type": "display_data",
          "data": {
            "text/plain": [
              "<Figure size 432x288 with 1 Axes>"
            ],
            "image/png": "[encoded data removed]"
          },
          "metadata": {
            "needs_background": "light"
          }
        }
      ],
      "source": [
        "#we can view some images and their labels\n",
        "import matplotlib.pyplot as plt\n",
        "idx = np.random.randint(low=0, high=len(trainset)-1)\n",
        "print('chosen index: ', idx)\n",
        "image, label = trainset[idx] # the image has format of h, w, c -> so it have to be reshaped\n",
        "plt.imshow(image.permute(1, 2, 0))\n",
        "plt.title(label)"
      ]
    },
    {
      "cell_type": "code",
      "execution_count": 101,
      "metadata": {
        "id": "zGbt0ZZxmzQZ",
        "colab": {
          "base_uri": "https://localhost:8080/"
        },
        "outputId": "2a167fd9-21ef-4801-bdcf-7bc428a86232"
      },
      "outputs": [
        {
          "output_type": "stream",
          "name": "stdout",
          "text": [
            "using cuda device\n"
          ]
        }
      ],
      "source": [
        "lr = 1e-3\n",
        "batch_size = 8\n",
        "epochs = 30\n",
        "\n",
        "#device\n",
        "device = 'cuda' if torch.cuda.is_available() else 'cpu'\n",
        "print(f'using {device} device')"
      ]
    },
    {
      "cell_type": "code",
      "execution_count": 102,
      "metadata": {
        "id": "lsyOnRfmmoxg",
        "colab": {
          "base_uri": "https://localhost:8080/"
        },
        "outputId": "e75bb3cf-136e-47ed-f5e8-478c2d097fae"
      },
      "outputs": [
        {
          "output_type": "stream",
          "name": "stdout",
          "text": [
            "total batches in trainloader:  652 and validloader:  2\n"
          ]
        }
      ],
      "source": [
        "#now let's read the dataset using pytorch's dataloader\n",
        "trainloader = DataLoader(trainset, batch_size=batch_size, shuffle=True, )\n",
        "validloader = DataLoader(validset, batch_size=batch_size)\n",
        "print('total batches in trainloader: ', len(trainloader), 'and validloader: ', len(validloader))"
      ]
    },
    {
      "cell_type": "code",
      "execution_count": 115,
      "metadata": {
        "colab": {
          "base_uri": "https://localhost:8080/"
        },
        "id": "57NdZQVtnJpp",
        "outputId": "05c54508-a4fd-40b1-c53e-b974c5e66a1b"
      },
      "outputs": [
        {
          "output_type": "execute_result",
          "data": {
            "text/plain": [
              "MyConvolution(\n",
              "  (conv1): Conv2d(3, 32, kernel_size=(3, 3), stride=(1, 1), padding=(1, 1))\n",
              "  (pool): MaxPool2d(kernel_size=(2, 2), stride=2, padding=0, dilation=1, ceil_mode=False)\n",
              "  (conv2): Conv2d(32, 64, kernel_size=(3, 3), stride=(1, 1), padding=(1, 1))\n",
              "  (conv3): Conv2d(64, 128, kernel_size=(3, 3), stride=(1, 1), padding=(1, 1))\n",
              "  (conv4): Conv2d(128, 128, kernel_size=(3, 3), stride=(1, 1), padding=(1, 1))\n",
              "  (conv5): Conv2d(128, 256, kernel_size=(3, 3), stride=(1, 1), padding=(1, 1))\n",
              "  (conv6): Conv2d(256, 256, kernel_size=(3, 3), stride=(1, 1), padding=(1, 1))\n",
              "  (fc1): Linear(in_features=4096, out_features=1024, bias=True)\n",
              "  (fc2): Linear(in_features=1024, out_features=512, bias=True)\n",
              "  (fc3): Linear(in_features=512, out_features=1, bias=True)\n",
              ")"
            ]
          },
          "metadata": {},
          "execution_count": 115
        }
      ],
      "source": [
        "C, H, W = 3, 32, 32\n",
        "num_classes = 1\n",
        "channel_1, channel_2, channel_3, channel_4, channel_5, channel_6 = [32, 64, 128, 128,256, 256]\n",
        "learning_rate = 1e-2\n",
        "momentum = 0.5\n",
        "class MyConvolution(nn.Module):\n",
        "  def __init__(self, in_channel=3, channel_1=32, channel_2=64, channel_3=128, channel_4=128, channel_5=256, channel_6=256, num_classes=1):\n",
        "    super().__init__()\n",
        "    self.conv1 = nn.Conv2d(in_channels=in_channel, out_channels=channel_1, kernel_size=(3,3), stride=1, padding=1)\n",
        "    self.pool = nn.MaxPool2d(kernel_size=(2,2), stride=2)\n",
        "    self.conv2 = nn.Conv2d(in_channels=channel_1, out_channels=channel_2, kernel_size=(3,3), padding=1, stride=1)\n",
        "    self.conv3 = nn.Conv2d(in_channels=channel_2, out_channels=channel_3, kernel_size=(3,3), padding=1, stride=1)\n",
        "    self.conv4 = nn.Conv2d(in_channels=channel_3, out_channels=channel_4, kernel_size=(3,3), padding=1, stride=1)\n",
        "    self.conv5 = nn.Conv2d(in_channels=channel_4, out_channels=channel_5, kernel_size=(3,3), padding=1, stride=1)\n",
        "    self.conv6 = nn.Conv2d(in_channels=channel_5, out_channels=channel_6, kernel_size=(3,3), padding=1, stride=1)\n",
        "    self.fc1 = nn.Linear(4*4*channel_6, 1024)\n",
        "    self.fc2 = nn.Linear(1024, 512)\n",
        "    self.fc3 = nn.Linear(512, num_classes)\n",
        "    #now initializing our parameters\n",
        "    nn.init.kaiming_normal_(self.conv1.weight)\n",
        "    nn.init.zeros_(self.conv1.bias)\n",
        "    nn.init.kaiming_normal_(self.conv2.weight)\n",
        "    nn.init.zeros_(self.conv2.bias)\n",
        "    nn.init.kaiming_normal_(self.conv3.weight)\n",
        "    nn.init.zeros_(self.conv3.bias)\n",
        "    nn.init.kaiming_normal_(self.conv4.weight)\n",
        "    nn.init.zeros_(self.conv4.bias)\n",
        "    nn.init.kaiming_normal_(self.conv5.weight)\n",
        "    nn.init.zeros_(self.conv5.bias)\n",
        "    nn.init.kaiming_normal_(self.conv6.weight)\n",
        "    nn.init.zeros_(self.conv6.bias)\n",
        "    nn.init.kaiming_normal_(self.fc1.weight)\n",
        "    nn.init.zeros_(self.fc1.bias)\n",
        "    nn.init.kaiming_normal_(self.fc2.weight)\n",
        "    nn.init.zeros_(self.fc2.bias)\n",
        "    nn.init.kaiming_normal_(self.fc2.weight)\n",
        "    nn.init.zeros_(self.fc2.bias)\n",
        "  \n",
        "  def forward(self, x):\n",
        "    x = F.relu(self.conv1(x))\n",
        "    x = F.relu(self.conv2(x))\n",
        "    x = self.pool(x)\n",
        "    x = F.relu(self.conv3(x))\n",
        "    x = F.relu(self.conv4(x))\n",
        "    x = self.pool(x)\n",
        "    x = F.relu(self.conv5(x))\n",
        "    x = F.relu(self.conv6(x))\n",
        "    x = self.pool(x)\n",
        "    x = F.relu(self.fc1(nn.Flatten()(x)))\n",
        "    x = F.relu(self.fc2(x))\n",
        "    x = self.fc3(x)\n",
        "    return x\n",
        "model = MyConvolution(C, channel_1, channel_2, channel_3, channel_4, channel_5, channel_6, num_classes)\n",
        "model.to(device)"
      ]
    },
    {
      "cell_type": "code",
      "source": [
        "def binary_accuracy(y_pred, y_true):\n",
        "  y_pred = torch.sigmoid(y_pred)\n",
        "  y_pred[y_pred >= 0.5] = 1\n",
        "  y_pred[y_pred < 0.5] = 0\n",
        "  return torch.mean((y_pred == y_true).type(torch.FloatTensor))"
      ],
      "metadata": {
        "id": "eGE14Xa7EgTl"
      },
      "execution_count": 116,
      "outputs": []
    },
    {
      "cell_type": "code",
      "execution_count": 117,
      "metadata": {
        "id": "TJw7XXO2o7DA"
      },
      "outputs": [],
      "source": [
        "from tqdm import tqdm\n",
        "\n",
        "def train_model(model, dataloader, optimizer, current_epoch):\n",
        "\n",
        "  model.train()\n",
        "  total_loss = 0.0\n",
        "  total_acc = 0.0\n",
        "  tk = tqdm(dataloader, desc='EPOCH' + '[TRAIN]' + str(current_epoch + 1) + \"/\" + str(epochs))\n",
        "\n",
        "  for t, data in enumerate(tk):\n",
        "    images, labels = data\n",
        "    labels = labels.reshape(-1, 1).float()\n",
        "    images, labels = images.to(device), labels.to(device)\n",
        "\n",
        "    # logits, loss = model(images, labels)\n",
        "    logits = model(images)\n",
        "    loss = nn.BCEWithLogitsLoss()(logits, labels)\n",
        "    optimizer.zero_grad()\n",
        "    loss.backward()\n",
        "    optimizer.step()\n",
        "\n",
        "    total_loss += loss.item()\n",
        "    total_acc += binary_accuracy(logits, labels)\n",
        "    tk.set_postfix({'loss': float(total_loss/(t+1)),'acc': float(total_acc/(t+1))})\n",
        "  return total_loss/len(dataloader), total_acc / len(dataloader)\n",
        "\n",
        "def eval_model(model, dataloader, current_epoch):\n",
        "\n",
        "  model.eval()\n",
        "  total_loss = 0.0\n",
        "  total_acc = 0.0\n",
        "  tk = tqdm(dataloader, desc='EPOCH' + '[VALID]' + str(current_epoch + 1) + \"/\" + str(epochs))\n",
        "\n",
        "  for t, data in enumerate(tk):\n",
        "    images, labels = data\n",
        "    labels = labels.reshape(-1, 1).float()\n",
        "    images, labels = images.to(device), labels.to(device)\n",
        "\n",
        "    # logits, loss = model(images, labels)\n",
        "    logits = model(images)\n",
        "    loss = nn.BCEWithLogitsLoss()(logits, labels)\n",
        "\n",
        "    total_loss += loss.item()\n",
        "    total_acc += binary_accuracy(logits, labels)\n",
        "    tk.set_postfix({'loss': float(total_loss/(t+1)),'acc': float(total_acc/(t+1))})\n",
        "  return total_loss/len(dataloader), total_acc / len(dataloader)"
      ]
    },
    {
      "cell_type": "code",
      "execution_count": 118,
      "metadata": {
        "id": "NDokfk9jpA9_"
      },
      "outputs": [],
      "source": [
        "#now let's train the model\n",
        "from torch import optim\n",
        "optimizer = optim.Adam(model.parameters(), lr=lr)\n",
        "# optimizer = optim.SGD(model.parameters(), lr=lr, momentum=0.5, weight_decay=1e-2, nesterov=True)"
      ]
    },
    {
      "cell_type": "code",
      "execution_count": 119,
      "metadata": {
        "colab": {
          "base_uri": "https://localhost:8080/"
        },
        "id": "FaMumPnmtbHL",
        "outputId": "f243516c-db9b-4bd4-f18a-056f9118bc5d"
      },
      "outputs": [
        {
          "output_type": "stream",
          "name": "stdout",
          "text": [
            "images batch shape:  torch.Size([3, 32, 32])\n",
            "labels batch shape 0\n"
          ]
        }
      ],
      "source": [
        "for images, labels in trainset:\n",
        "  break\n",
        "print('images batch shape: ', images.shape)\n",
        "print('labels batch shape', labels)"
      ]
    },
    {
      "cell_type": "code",
      "execution_count": 120,
      "metadata": {
        "colab": {
          "base_uri": "https://localhost:8080/"
        },
        "id": "H6j5-3pTpEzg",
        "outputId": "ab00795a-2787-42c1-fd9b-30d13cd16684"
      },
      "outputs": [
        {
          "output_type": "stream",
          "name": "stderr",
          "text": [
            "EPOCH[TRAIN]1/30: 100%|██████████| 652/652 [02:02<00:00,  5.32it/s, loss=0.427, acc=0.816]\n",
            "EPOCH[VALID]1/30: 100%|██████████| 2/2 [00:00<00:00,  8.40it/s, loss=0.713, acc=0.75]\n"
          ]
        },
        {
          "output_type": "stream",
          "name": "stdout",
          "text": [
            "SAVED BEST WEIGHTS\n"
          ]
        },
        {
          "output_type": "stream",
          "name": "stderr",
          "text": [
            "EPOCH[TRAIN]2/30: 100%|██████████| 652/652 [02:05<00:00,  5.21it/s, loss=0.182, acc=0.93]\n",
            "EPOCH[VALID]2/30: 100%|██████████| 2/2 [00:00<00:00,  7.99it/s, loss=0.218, acc=0.938]\n"
          ]
        },
        {
          "output_type": "stream",
          "name": "stdout",
          "text": [
            "SAVED BEST WEIGHTS\n"
          ]
        },
        {
          "output_type": "stream",
          "name": "stderr",
          "text": [
            "EPOCH[TRAIN]3/30: 100%|██████████| 652/652 [02:02<00:00,  5.33it/s, loss=0.153, acc=0.944]\n",
            "EPOCH[VALID]3/30: 100%|██████████| 2/2 [00:00<00:00,  8.35it/s, loss=0.298, acc=0.812]\n",
            "EPOCH[TRAIN]4/30: 100%|██████████| 652/652 [02:03<00:00,  5.29it/s, loss=0.127, acc=0.953]\n",
            "EPOCH[VALID]4/30: 100%|██████████| 2/2 [00:00<00:00,  7.99it/s, loss=0.791, acc=0.625]\n",
            "EPOCH[TRAIN]5/30: 100%|██████████| 652/652 [02:02<00:00,  5.31it/s, loss=0.13, acc=0.952]\n",
            "EPOCH[VALID]5/30: 100%|██████████| 2/2 [00:00<00:00,  7.97it/s, loss=0.259, acc=0.938]\n",
            "EPOCH[TRAIN]6/30: 100%|██████████| 652/652 [02:03<00:00,  5.26it/s, loss=0.113, acc=0.96]\n",
            "EPOCH[VALID]6/30: 100%|██████████| 2/2 [00:00<00:00,  7.58it/s, loss=0.417, acc=0.812]\n",
            "EPOCH[TRAIN]7/30: 100%|██████████| 652/652 [02:02<00:00,  5.31it/s, loss=0.116, acc=0.959]\n",
            "EPOCH[VALID]7/30: 100%|██████████| 2/2 [00:00<00:00,  7.97it/s, loss=1.01, acc=0.625]\n",
            "EPOCH[TRAIN]8/30: 100%|██████████| 652/652 [02:02<00:00,  5.31it/s, loss=0.102, acc=0.964]\n",
            "EPOCH[VALID]8/30: 100%|██████████| 2/2 [00:00<00:00,  7.76it/s, loss=1.13, acc=0.625]\n",
            "EPOCH[TRAIN]9/30: 100%|██████████| 652/652 [02:03<00:00,  5.29it/s, loss=0.0992, acc=0.963]\n",
            "EPOCH[VALID]9/30: 100%|██████████| 2/2 [00:00<00:00,  8.02it/s, loss=0.411, acc=0.812]\n",
            "EPOCH[TRAIN]10/30: 100%|██████████| 652/652 [02:02<00:00,  5.34it/s, loss=0.101, acc=0.963]\n",
            "EPOCH[VALID]10/30: 100%|██████████| 2/2 [00:00<00:00,  8.21it/s, loss=0.602, acc=0.688]\n",
            "EPOCH[TRAIN]11/30: 100%|██████████| 652/652 [02:02<00:00,  5.31it/s, loss=0.0943, acc=0.965]\n",
            "EPOCH[VALID]11/30: 100%|██████████| 2/2 [00:00<00:00,  8.28it/s, loss=0.754, acc=0.75]\n",
            "EPOCH[TRAIN]12/30: 100%|██████████| 652/652 [02:02<00:00,  5.33it/s, loss=0.1, acc=0.963]\n",
            "EPOCH[VALID]12/30: 100%|██████████| 2/2 [00:00<00:00,  8.13it/s, loss=0.529, acc=0.688]\n",
            "EPOCH[TRAIN]13/30: 100%|██████████| 652/652 [02:02<00:00,  5.34it/s, loss=0.0906, acc=0.967]\n",
            "EPOCH[VALID]13/30: 100%|██████████| 2/2 [00:00<00:00,  8.35it/s, loss=0.443, acc=0.812]\n",
            "EPOCH[TRAIN]14/30: 100%|██████████| 652/652 [02:02<00:00,  5.34it/s, loss=0.0844, acc=0.968]\n",
            "EPOCH[VALID]14/30: 100%|██████████| 2/2 [00:00<00:00,  8.15it/s, loss=0.732, acc=0.812]\n",
            "EPOCH[TRAIN]15/30: 100%|██████████| 652/652 [02:03<00:00,  5.28it/s, loss=0.0886, acc=0.967]\n",
            "EPOCH[VALID]15/30: 100%|██████████| 2/2 [00:00<00:00,  8.25it/s, loss=0.353, acc=0.875]\n",
            "EPOCH[TRAIN]16/30: 100%|██████████| 652/652 [02:02<00:00,  5.32it/s, loss=0.0817, acc=0.969]\n",
            "EPOCH[VALID]16/30: 100%|██████████| 2/2 [00:00<00:00,  8.18it/s, loss=0.166, acc=0.938]\n"
          ]
        },
        {
          "output_type": "stream",
          "name": "stdout",
          "text": [
            "SAVED BEST WEIGHTS\n"
          ]
        },
        {
          "output_type": "stream",
          "name": "stderr",
          "text": [
            "EPOCH[TRAIN]17/30: 100%|██████████| 652/652 [02:02<00:00,  5.33it/s, loss=0.0812, acc=0.971]\n",
            "EPOCH[VALID]17/30: 100%|██████████| 2/2 [00:00<00:00,  8.17it/s, loss=0.364, acc=0.75]\n",
            "EPOCH[TRAIN]18/30: 100%|██████████| 652/652 [02:01<00:00,  5.35it/s, loss=0.0835, acc=0.97]\n",
            "EPOCH[VALID]18/30: 100%|██████████| 2/2 [00:00<00:00,  7.93it/s, loss=0.447, acc=0.875]\n",
            "EPOCH[TRAIN]19/30: 100%|██████████| 652/652 [02:02<00:00,  5.33it/s, loss=0.0777, acc=0.971]\n",
            "EPOCH[VALID]19/30: 100%|██████████| 2/2 [00:00<00:00,  8.13it/s, loss=0.346, acc=0.875]\n",
            "EPOCH[TRAIN]20/30: 100%|██████████| 652/652 [02:01<00:00,  5.36it/s, loss=0.075, acc=0.973]\n",
            "EPOCH[VALID]20/30: 100%|██████████| 2/2 [00:00<00:00,  8.11it/s, loss=0.585, acc=0.75]\n",
            "EPOCH[TRAIN]21/30: 100%|██████████| 652/652 [02:02<00:00,  5.32it/s, loss=0.092, acc=0.97]\n",
            "EPOCH[VALID]21/30: 100%|██████████| 2/2 [00:00<00:00,  8.39it/s, loss=0.577, acc=0.875]\n",
            "EPOCH[TRAIN]22/30: 100%|██████████| 652/652 [02:01<00:00,  5.35it/s, loss=0.086, acc=0.969]\n",
            "EPOCH[VALID]22/30: 100%|██████████| 2/2 [00:00<00:00,  8.43it/s, loss=0.798, acc=0.812]\n",
            "EPOCH[TRAIN]23/30: 100%|██████████| 652/652 [02:02<00:00,  5.34it/s, loss=0.0837, acc=0.971]\n",
            "EPOCH[VALID]23/30: 100%|██████████| 2/2 [00:00<00:00,  8.14it/s, loss=0.68, acc=0.812]\n",
            "EPOCH[TRAIN]24/30: 100%|██████████| 652/652 [02:01<00:00,  5.35it/s, loss=0.0684, acc=0.974]\n",
            "EPOCH[VALID]24/30: 100%|██████████| 2/2 [00:00<00:00,  8.47it/s, loss=0.25, acc=0.938]\n",
            "EPOCH[TRAIN]25/30: 100%|██████████| 652/652 [02:01<00:00,  5.34it/s, loss=0.0757, acc=0.973]\n",
            "EPOCH[VALID]25/30: 100%|██████████| 2/2 [00:00<00:00,  7.82it/s, loss=0.262, acc=0.875]\n",
            "EPOCH[TRAIN]26/30: 100%|██████████| 652/652 [02:01<00:00,  5.38it/s, loss=0.0738, acc=0.973]\n",
            "EPOCH[VALID]26/30: 100%|██████████| 2/2 [00:00<00:00,  7.84it/s, loss=1.73, acc=0.625]\n",
            "EPOCH[TRAIN]27/30: 100%|██████████| 652/652 [02:04<00:00,  5.24it/s, loss=0.0842, acc=0.971]\n",
            "EPOCH[VALID]27/30: 100%|██████████| 2/2 [00:00<00:00,  8.51it/s, loss=0.462, acc=0.875]\n",
            "EPOCH[TRAIN]28/30: 100%|██████████| 652/652 [02:01<00:00,  5.36it/s, loss=0.0715, acc=0.974]\n",
            "EPOCH[VALID]28/30: 100%|██████████| 2/2 [00:00<00:00,  8.08it/s, loss=0.628, acc=0.75]\n",
            "EPOCH[TRAIN]29/30: 100%|██████████| 652/652 [02:03<00:00,  5.27it/s, loss=0.0659, acc=0.978]\n",
            "EPOCH[VALID]29/30: 100%|██████████| 2/2 [00:00<00:00,  8.39it/s, loss=0.281, acc=0.875]\n",
            "EPOCH[TRAIN]30/30: 100%|██████████| 652/652 [02:03<00:00,  5.29it/s, loss=0.0733, acc=0.976]\n",
            "EPOCH[VALID]30/30: 100%|██████████| 2/2 [00:00<00:00,  8.45it/s, loss=0.576, acc=0.812]"
          ]
        },
        {
          "output_type": "stream",
          "name": "stdout",
          "text": [
            "\n",
            "\n",
            "accuracy on the training set:  0.9758435487747192\n",
            "accuracy on the validation set:  0.8125\n"
          ]
        },
        {
          "output_type": "stream",
          "name": "stderr",
          "text": [
            "\n"
          ]
        }
      ],
      "source": [
        "best_valid_loss = np.Inf\n",
        "train_losses, valid_losses = [], []\n",
        "train_accuracies, valid_accuracies = [], []\n",
        "for i in range(epochs):\n",
        "  train_loss, train_acc = train_model(model, trainloader, optimizer, i)\n",
        "  valid_loss, valid_acc = eval_model(model, validloader, i)\n",
        "  train_losses.append(train_loss)\n",
        "  valid_losses.append(valid_loss)\n",
        "  train_accuracies.append(train_acc)\n",
        "  valid_accuracies.append(valid_acc)\n",
        "  if valid_loss < best_valid_loss:\n",
        "    torch.save(model.state_dict(), 'best-weights.pt')\n",
        "    print('SAVED BEST WEIGHTS')\n",
        "    best_valid_loss = valid_loss\n",
        "print()\n",
        "print()\n",
        "print('accuracy on the training set: ', float(train_acc))\n",
        "print('accuracy on the validation set: ', float(valid_acc))"
      ]
    },
    {
      "cell_type": "code",
      "source": [
        "def plot_the_loss_curve(epochs, training_losses, validation_losses):\n",
        "  \"\"\"Plot a curve of loss vs. epoch.\"\"\"\n",
        "  epochs = list(range(1, epochs + 1))\n",
        "  plt.figure(figsize=(10, 5))\n",
        "  plt.xlabel(\"Epoch\")\n",
        "  plt.ylabel(\"Cross Entropy losses\")\n",
        "\n",
        "  plt.plot(epochs[1:], training_losses[1:], label=\"Training Loss\")\n",
        "  plt.plot(epochs[1:], validation_losses[1:], label=\"Validation Loss\")\n",
        "  plt.legend()\n",
        "  \n",
        "  # We're not going to plot the first epoch, since the loss on the first epoch\n",
        "  # is often substantially greater than the loss for other epochs.\n",
        "  merged_losses = training_losses[1:] + validation_losses[1:]\n",
        "  highest_loss = max(merged_losses)\n",
        "  lowest_loss = min(merged_losses)\n",
        "  delta = highest_loss - lowest_loss\n",
        "  print(delta)\n",
        "\n",
        "  top_of_y_axis = highest_loss + (delta * 0.05)\n",
        "  bottom_of_y_axis = lowest_loss - (delta * 0.05)\n",
        "  plt.title('loss curve') \n",
        "  plt.ylim([bottom_of_y_axis, top_of_y_axis])\n",
        "  plt.show()"
      ],
      "metadata": {
        "id": "3r2Fb90THz3t"
      },
      "execution_count": 121,
      "outputs": []
    },
    {
      "cell_type": "code",
      "source": [
        "plot_the_loss_curve(epochs, train_losses, valid_losses)"
      ],
      "metadata": {
        "id": "yd7Jd0RSINCo",
        "colab": {
          "base_uri": "https://localhost:8080/",
          "height": 367
        },
        "outputId": "f26dc1d2-e938-4af9-8fb5-693e891f344e"
      },
      "execution_count": 122,
      "outputs": [
        {
          "output_type": "stream",
          "name": "stdout",
          "text": [
            "1.6616926060857666\n"
          ]
        },
        {
          "output_type": "display_data",
          "data": {
            "text/plain": [
              "<Figure size 720x360 with 1 Axes>"
            ],
            "image/png": "[encoded data removed]"
          },
          "metadata": {
            "needs_background": "light"
          }
        }
      ]
    }
  ],
  "metadata": {
    "accelerator": "GPU",
    "colab": {
      "collapsed_sections": [],
      "name": "Baseline.ipynb",
      "provenance": [],
      "include_colab_link": true
    },
    "gpuClass": "standard",
    "kernelspec": {
      "display_name": "Python 3",
      "name": "python3"
    },
    "language_info": {
      "name": "python"
    }
  },
  "nbformat": 4,
  "nbformat_minor": 0
}